{
 "cells": [
  {
   "cell_type": "markdown",
   "metadata": {
    "colab_type": "text",
    "id": "vedvlIyXssqw",
    "toc": true
   },
   "source": [
    "<h1>Table of Contents<span class=\"tocSkip\"></span></h1>\n",
    "<div class=\"toc\"><ul class=\"toc-item\"><li><span><a href=\"#Progressive-Resizing-+-MixUp\" data-toc-modified-id=\"Progressive-Resizing-+-MixUp-1\"><span class=\"toc-item-num\">1&nbsp;&nbsp;</span>Progressive Resizing + MixUp</a></span><ul class=\"toc-item\"><li><span><a href=\"#batch_size:-128,-image_size:-128\" data-toc-modified-id=\"batch_size:-128,-image_size:-128-1.1\"><span class=\"toc-item-num\">1.1&nbsp;&nbsp;</span>batch_size: 128, image_size: 128</a></span></li><li><span><a href=\"#batch_size:-64,-image_size:-256\" data-toc-modified-id=\"batch_size:-64,-image_size:-256-1.2\"><span class=\"toc-item-num\">1.2&nbsp;&nbsp;</span>batch_size: 64, image_size: 256</a></span></li><li><span><a href=\"#batch_size:-24,-image_size:-512\" data-toc-modified-id=\"batch_size:-24,-image_size:-512-1.3\"><span class=\"toc-item-num\">1.3&nbsp;&nbsp;</span>batch_size: 24, image_size: 512</a></span></li></ul></li><li><span><a href=\"#Test-Time-Augmentation\" data-toc-modified-id=\"Test-Time-Augmentation-2\"><span class=\"toc-item-num\">2&nbsp;&nbsp;</span>Test Time Augmentation</a></span><ul class=\"toc-item\"><li><span><a href=\"#number-of-variations-:-4,-method:-average\" data-toc-modified-id=\"number-of-variations-:-4,-method:-average-2.1\"><span class=\"toc-item-num\">2.1&nbsp;&nbsp;</span>number of variations : 4, method: average</a></span></li><li><span><a href=\"#number-of-variations-:-8,-method:-average\" data-toc-modified-id=\"number-of-variations-:-8,-method:-average-2.2\"><span class=\"toc-item-num\">2.2&nbsp;&nbsp;</span>number of variations : 8, method: average</a></span></li><li><span><a href=\"#number-of-variations-:-4,-method:-max\" data-toc-modified-id=\"number-of-variations-:-4,-method:-max-2.3\"><span class=\"toc-item-num\">2.3&nbsp;&nbsp;</span>number of variations : 4, method: max</a></span></li></ul></li></ul></div>"
   ]
  },
  {
   "cell_type": "code",
   "execution_count": 2,
   "metadata": {
    "colab": {},
    "colab_type": "code",
    "id": "w3_uMsqGssqx"
   },
   "outputs": [],
   "source": [
    "from fastai2.vision.all import *"
   ]
  },
  {
   "cell_type": "code",
   "execution_count": 4,
   "metadata": {
    "colab": {
     "base_uri": "https://localhost:8080/",
     "height": 34
    },
    "colab_type": "code",
    "id": "nX7uyKahYr_-",
    "outputId": "7d491d00-1f5d-49f9-f720-d8f89bb93105"
   },
   "outputs": [
    {
     "data": {
      "text/plain": [
       "(#2) [Path('train'),Path('valid')]"
      ]
     },
     "execution_count": 4,
     "metadata": {
      "tags": []
     },
     "output_type": "execute_result"
    }
   ],
   "source": [
    "path = Path('/content/drive/My Drive/Food-101/dataset')\n",
    "Path.BASE_PATH = path\n",
    "path.ls()"
   ]
  },
  {
   "cell_type": "code",
   "execution_count": 5,
   "metadata": {
    "colab": {
     "base_uri": "https://localhost:8080/",
     "height": 34
    },
    "colab_type": "code",
    "id": "76pd44mxaAIU",
    "outputId": "c38e173d-0ff6-4d38-f44d-f4c6a451134b"
   },
   "outputs": [
    {
     "data": {
      "text/plain": [
       "101000"
      ]
     },
     "execution_count": 5,
     "metadata": {
      "tags": []
     },
     "output_type": "execute_result"
    }
   ],
   "source": [
    "files = get_image_files(path)\n",
    "len(files)"
   ]
  },
  {
   "cell_type": "code",
   "execution_count": 6,
   "metadata": {
    "colab": {},
    "colab_type": "code",
    "id": "jJtfi9z7Fech"
   },
   "outputs": [],
   "source": [
    "def get_dls(batch_size, img_size):\n",
    "    dblock = DataBlock(blocks=(ImageBlock, CategoryBlock),\n",
    "                       get_items=get_image_files,\n",
    "                       get_y=parent_label,\n",
    "                       splitter=GrandparentSplitter(),\n",
    "                       item_tfms=Resize(460),\n",
    "                       batch_tfms=aug_transforms(size=img_size, min_scale=0.75))\n",
    "    return dblock.dataloaders(path, bs=batch_size)"
   ]
  },
  {
   "cell_type": "markdown",
   "metadata": {
    "colab_type": "text",
    "heading_collapsed": true,
    "id": "1I4AJnHZhmyZ"
   },
   "source": [
    "# Progressive Resizing + MixUp"
   ]
  },
  {
   "cell_type": "markdown",
   "metadata": {
    "colab_type": "text",
    "hidden": true,
    "id": "F_eOE_vZAEKa"
   },
   "source": [
    "## batch_size: 128, image_size: 128"
   ]
  },
  {
   "cell_type": "code",
   "execution_count": 7,
   "metadata": {
    "colab": {
     "base_uri": "https://localhost:8080/",
     "height": 71
    },
    "colab_type": "code",
    "hidden": true,
    "id": "XxdP1WRHGQgn",
    "outputId": "aecc36ec-1cfd-4fae-e6cd-d1b3c8dbc5b5"
   },
   "outputs": [
    {
     "name": "stderr",
     "output_type": "stream",
     "text": [
      "/usr/local/lib/python3.6/dist-packages/torch/nn/functional.py:2854: UserWarning: The default behavior for interpolate/upsample with float scale_factor will change in 1.6.0 to align with other frameworks/libraries, and use scale_factor directly, instead of relying on the computed output size. If you wish to keep the old behavior, please set recompute_scale_factor=True. See the documentation of nn.Upsample for details. \n",
      "  warnings.warn(\"The default behavior for interpolate/upsample with float scale_factor will change \"\n"
     ]
    }
   ],
   "source": [
    "dls = get_dls(128, 128)\n",
    "learn = cnn_learner(dls, resnet50, metrics=accuracy, cbs=MixUp)"
   ]
  },
  {
   "cell_type": "code",
   "execution_count": 8,
   "metadata": {
    "colab": {
     "base_uri": "https://localhost:8080/",
     "height": 337
    },
    "colab_type": "code",
    "hidden": true,
    "id": "jw_VjYaJqVDu",
    "outputId": "645b713c-81e2-4355-e9ba-1f2b4902c6ec"
   },
   "outputs": [
    {
     "data": {
      "text/html": [],
      "text/plain": [
       "<IPython.core.display.HTML object>"
      ]
     },
     "metadata": {
      "tags": []
     },
     "output_type": "display_data"
    },
    {
     "name": "stderr",
     "output_type": "stream",
     "text": [
      "/usr/local/lib/python3.6/dist-packages/torch/nn/functional.py:2854: UserWarning: The default behavior for interpolate/upsample with float scale_factor will change in 1.6.0 to align with other frameworks/libraries, and use scale_factor directly, instead of relying on the computed output size. If you wish to keep the old behavior, please set recompute_scale_factor=True. See the documentation of nn.Upsample for details. \n",
      "  warnings.warn(\"The default behavior for interpolate/upsample with float scale_factor will change \"\n"
     ]
    },
    {
     "data": {
      "image/png": "[encoded data removed]",
      "text/plain": [
       "<Figure size 432x288 with 1 Axes>"
      ]
     },
     "metadata": {
      "needs_background": "light",
      "tags": []
     },
     "output_type": "display_data"
    }
   ],
   "source": [
    "lr_min, lr_steep = learn.lr_find()"
   ]
  },
  {
   "cell_type": "code",
   "execution_count": 9,
   "metadata": {
    "colab": {
     "base_uri": "https://localhost:8080/",
     "height": 227
    },
    "colab_type": "code",
    "hidden": true,
    "id": "zUhdK3RfqdW2",
    "outputId": "86faa7ca-6f8f-4130-e3b3-f8a5a650900f"
   },
   "outputs": [
    {
     "data": {
      "text/html": [
       "<table border=\"1\" class=\"dataframe\">\n",
       "  <thead>\n",
       "    <tr style=\"text-align: left;\">\n",
       "      <th>epoch</th>\n",
       "      <th>train_loss</th>\n",
       "      <th>valid_loss</th>\n",
       "      <th>accuracy</th>\n",
       "      <th>time</th>\n",
       "    </tr>\n",
       "  </thead>\n",
       "  <tbody>\n",
       "    <tr>\n",
       "      <td>0</td>\n",
       "      <td>3.161827</td>\n",
       "      <td>1.842648</td>\n",
       "      <td>0.523089</td>\n",
       "      <td>3:20:07</td>\n",
       "    </tr>\n",
       "    <tr>\n",
       "      <td>1</td>\n",
       "      <td>2.772474</td>\n",
       "      <td>1.525861</td>\n",
       "      <td>0.606574</td>\n",
       "      <td>09:26</td>\n",
       "    </tr>\n",
       "    <tr>\n",
       "      <td>2</td>\n",
       "      <td>2.522442</td>\n",
       "      <td>1.290076</td>\n",
       "      <td>0.671129</td>\n",
       "      <td>09:04</td>\n",
       "    </tr>\n",
       "    <tr>\n",
       "      <td>3</td>\n",
       "      <td>2.443406</td>\n",
       "      <td>1.224257</td>\n",
       "      <td>0.689545</td>\n",
       "      <td>09:03</td>\n",
       "    </tr>\n",
       "  </tbody>\n",
       "</table>"
      ],
      "text/plain": [
       "<IPython.core.display.HTML object>"
      ]
     },
     "metadata": {
      "tags": []
     },
     "output_type": "display_data"
    },
    {
     "name": "stderr",
     "output_type": "stream",
     "text": [
      "/usr/local/lib/python3.6/dist-packages/torch/nn/functional.py:2854: UserWarning: The default behavior for interpolate/upsample with float scale_factor will change in 1.6.0 to align with other frameworks/libraries, and use scale_factor directly, instead of relying on the computed output size. If you wish to keep the old behavior, please set recompute_scale_factor=True. See the documentation of nn.Upsample for details. \n",
      "  warnings.warn(\"The default behavior for interpolate/upsample with float scale_factor will change \"\n"
     ]
    }
   ],
   "source": [
    "learn.fit_one_cycle(4, 3e-3)\n",
    "learn.save('resnet50-mixup-128')"
   ]
  },
  {
   "cell_type": "markdown",
   "metadata": {
    "colab_type": "text",
    "hidden": true,
    "id": "GaerzEo6AGdw"
   },
   "source": [
    "## batch_size: 64, image_size: 256"
   ]
  },
  {
   "cell_type": "code",
   "execution_count": 10,
   "metadata": {
    "colab": {
     "base_uri": "https://localhost:8080/",
     "height": 484
    },
    "colab_type": "code",
    "hidden": true,
    "id": "TyNMr2marLEZ",
    "outputId": "5eaa7550-acb8-4a68-d111-222aa2c6f115"
   },
   "outputs": [
    {
     "data": {
      "text/html": [
       "<table border=\"1\" class=\"dataframe\">\n",
       "  <thead>\n",
       "    <tr style=\"text-align: left;\">\n",
       "      <th>epoch</th>\n",
       "      <th>train_loss</th>\n",
       "      <th>valid_loss</th>\n",
       "      <th>accuracy</th>\n",
       "      <th>time</th>\n",
       "    </tr>\n",
       "  </thead>\n",
       "  <tbody>\n",
       "    <tr>\n",
       "      <td>0</td>\n",
       "      <td>2.399753</td>\n",
       "      <td>1.042219</td>\n",
       "      <td>0.729267</td>\n",
       "      <td>09:58</td>\n",
       "    </tr>\n",
       "  </tbody>\n",
       "</table>"
      ],
      "text/plain": [
       "<IPython.core.display.HTML object>"
      ]
     },
     "metadata": {
      "tags": []
     },
     "output_type": "display_data"
    },
    {
     "data": {
      "text/html": [
       "<table border=\"1\" class=\"dataframe\">\n",
       "  <thead>\n",
       "    <tr style=\"text-align: left;\">\n",
       "      <th>epoch</th>\n",
       "      <th>train_loss</th>\n",
       "      <th>valid_loss</th>\n",
       "      <th>accuracy</th>\n",
       "      <th>time</th>\n",
       "    </tr>\n",
       "  </thead>\n",
       "  <tbody>\n",
       "    <tr>\n",
       "      <td>0</td>\n",
       "      <td>2.196942</td>\n",
       "      <td>0.865251</td>\n",
       "      <td>0.778099</td>\n",
       "      <td>11:05</td>\n",
       "    </tr>\n",
       "    <tr>\n",
       "      <td>1</td>\n",
       "      <td>2.140969</td>\n",
       "      <td>0.870928</td>\n",
       "      <td>0.770139</td>\n",
       "      <td>11:04</td>\n",
       "    </tr>\n",
       "    <tr>\n",
       "      <td>2</td>\n",
       "      <td>2.114249</td>\n",
       "      <td>0.889306</td>\n",
       "      <td>0.766653</td>\n",
       "      <td>11:03</td>\n",
       "    </tr>\n",
       "    <tr>\n",
       "      <td>3</td>\n",
       "      <td>2.046470</td>\n",
       "      <td>0.827810</td>\n",
       "      <td>0.783644</td>\n",
       "      <td>11:02</td>\n",
       "    </tr>\n",
       "    <tr>\n",
       "      <td>4</td>\n",
       "      <td>1.975253</td>\n",
       "      <td>0.711419</td>\n",
       "      <td>0.810020</td>\n",
       "      <td>11:03</td>\n",
       "    </tr>\n",
       "    <tr>\n",
       "      <td>5</td>\n",
       "      <td>1.894643</td>\n",
       "      <td>0.668076</td>\n",
       "      <td>0.822020</td>\n",
       "      <td>11:05</td>\n",
       "    </tr>\n",
       "    <tr>\n",
       "      <td>6</td>\n",
       "      <td>1.795923</td>\n",
       "      <td>0.575390</td>\n",
       "      <td>0.848079</td>\n",
       "      <td>11:04</td>\n",
       "    </tr>\n",
       "    <tr>\n",
       "      <td>7</td>\n",
       "      <td>1.675972</td>\n",
       "      <td>0.533113</td>\n",
       "      <td>0.860990</td>\n",
       "      <td>11:06</td>\n",
       "    </tr>\n",
       "    <tr>\n",
       "      <td>8</td>\n",
       "      <td>1.600568</td>\n",
       "      <td>0.500048</td>\n",
       "      <td>0.868990</td>\n",
       "      <td>11:04</td>\n",
       "    </tr>\n",
       "    <tr>\n",
       "      <td>9</td>\n",
       "      <td>1.595252</td>\n",
       "      <td>0.471354</td>\n",
       "      <td>0.874812</td>\n",
       "      <td>11:04</td>\n",
       "    </tr>\n",
       "    <tr>\n",
       "      <td>10</td>\n",
       "      <td>1.517492</td>\n",
       "      <td>0.451955</td>\n",
       "      <td>0.882693</td>\n",
       "      <td>11:04</td>\n",
       "    </tr>\n",
       "    <tr>\n",
       "      <td>11</td>\n",
       "      <td>1.491019</td>\n",
       "      <td>0.454140</td>\n",
       "      <td>0.881347</td>\n",
       "      <td>11:05</td>\n",
       "    </tr>\n",
       "  </tbody>\n",
       "</table>"
      ],
      "text/plain": [
       "<IPython.core.display.HTML object>"
      ]
     },
     "metadata": {
      "tags": []
     },
     "output_type": "display_data"
    }
   ],
   "source": [
    "learn.dls = get_dls(64, 256)\n",
    "learn.fine_tune(12, 3e-3)\n",
    "learn.save('resnet50-mixup-256')"
   ]
  },
  {
   "cell_type": "markdown",
   "metadata": {
    "colab_type": "text",
    "hidden": true,
    "id": "Nd2entHxAJjZ"
   },
   "source": [
    "## batch_size: 24, image_size: 512"
   ]
  },
  {
   "cell_type": "code",
   "execution_count": 11,
   "metadata": {
    "colab": {
     "base_uri": "https://localhost:8080/",
     "height": 608
    },
    "colab_type": "code",
    "hidden": true,
    "id": "zJHL8uN9rLOx",
    "outputId": "7545cf7d-d4f3-4d5a-b908-571fffb32b97"
   },
   "outputs": [
    {
     "data": {
      "text/html": [
       "<table border=\"1\" class=\"dataframe\">\n",
       "  <thead>\n",
       "    <tr style=\"text-align: left;\">\n",
       "      <th>epoch</th>\n",
       "      <th>train_loss</th>\n",
       "      <th>valid_loss</th>\n",
       "      <th>accuracy</th>\n",
       "      <th>time</th>\n",
       "    </tr>\n",
       "  </thead>\n",
       "  <tbody>\n",
       "    <tr>\n",
       "      <td>0</td>\n",
       "      <td>1.780378</td>\n",
       "      <td>0.549236</td>\n",
       "      <td>0.854812</td>\n",
       "      <td>28:08</td>\n",
       "    </tr>\n",
       "  </tbody>\n",
       "</table>"
      ],
      "text/plain": [
       "<IPython.core.display.HTML object>"
      ]
     },
     "metadata": {
      "tags": []
     },
     "output_type": "display_data"
    },
    {
     "data": {
      "text/html": [
       "<table border=\"1\" class=\"dataframe\">\n",
       "  <thead>\n",
       "    <tr style=\"text-align: left;\">\n",
       "      <th>epoch</th>\n",
       "      <th>train_loss</th>\n",
       "      <th>valid_loss</th>\n",
       "      <th>accuracy</th>\n",
       "      <th>time</th>\n",
       "    </tr>\n",
       "  </thead>\n",
       "  <tbody>\n",
       "    <tr>\n",
       "      <td>0</td>\n",
       "      <td>1.662495</td>\n",
       "      <td>0.484839</td>\n",
       "      <td>0.869822</td>\n",
       "      <td>36:00</td>\n",
       "    </tr>\n",
       "    <tr>\n",
       "      <td>1</td>\n",
       "      <td>1.667889</td>\n",
       "      <td>0.464413</td>\n",
       "      <td>0.874535</td>\n",
       "      <td>36:01</td>\n",
       "    </tr>\n",
       "    <tr>\n",
       "      <td>2</td>\n",
       "      <td>1.688542</td>\n",
       "      <td>0.448004</td>\n",
       "      <td>0.881347</td>\n",
       "      <td>36:00</td>\n",
       "    </tr>\n",
       "    <tr>\n",
       "      <td>3</td>\n",
       "      <td>1.621470</td>\n",
       "      <td>0.441932</td>\n",
       "      <td>0.882614</td>\n",
       "      <td>35:58</td>\n",
       "    </tr>\n",
       "    <tr>\n",
       "      <td>4</td>\n",
       "      <td>1.546490</td>\n",
       "      <td>0.430627</td>\n",
       "      <td>0.885347</td>\n",
       "      <td>35:57</td>\n",
       "    </tr>\n",
       "    <tr>\n",
       "      <td>5</td>\n",
       "      <td>1.555411</td>\n",
       "      <td>0.427514</td>\n",
       "      <td>0.883960</td>\n",
       "      <td>35:56</td>\n",
       "    </tr>\n",
       "    <tr>\n",
       "      <td>6</td>\n",
       "      <td>1.534615</td>\n",
       "      <td>0.415581</td>\n",
       "      <td>0.889426</td>\n",
       "      <td>35:58</td>\n",
       "    </tr>\n",
       "    <tr>\n",
       "      <td>7</td>\n",
       "      <td>1.581146</td>\n",
       "      <td>0.409321</td>\n",
       "      <td>0.890931</td>\n",
       "      <td>35:57</td>\n",
       "    </tr>\n",
       "    <tr>\n",
       "      <td>8</td>\n",
       "      <td>1.531401</td>\n",
       "      <td>0.406165</td>\n",
       "      <td>0.891168</td>\n",
       "      <td>35:56</td>\n",
       "    </tr>\n",
       "    <tr>\n",
       "      <td>9</td>\n",
       "      <td>1.477914</td>\n",
       "      <td>0.401086</td>\n",
       "      <td>0.893822</td>\n",
       "      <td>35:56</td>\n",
       "    </tr>\n",
       "    <tr>\n",
       "      <td>10</td>\n",
       "      <td>1.443461</td>\n",
       "      <td>0.397444</td>\n",
       "      <td>0.892079</td>\n",
       "      <td>35:56</td>\n",
       "    </tr>\n",
       "    <tr>\n",
       "      <td>11</td>\n",
       "      <td>1.466203</td>\n",
       "      <td>0.386578</td>\n",
       "      <td>0.896317</td>\n",
       "      <td>35:56</td>\n",
       "    </tr>\n",
       "    <tr>\n",
       "      <td>12</td>\n",
       "      <td>1.478967</td>\n",
       "      <td>0.386905</td>\n",
       "      <td>0.896119</td>\n",
       "      <td>35:55</td>\n",
       "    </tr>\n",
       "    <tr>\n",
       "      <td>13</td>\n",
       "      <td>1.481007</td>\n",
       "      <td>0.388374</td>\n",
       "      <td>0.895089</td>\n",
       "      <td>35:55</td>\n",
       "    </tr>\n",
       "    <tr>\n",
       "      <td>14</td>\n",
       "      <td>1.446460</td>\n",
       "      <td>0.384211</td>\n",
       "      <td>0.896950</td>\n",
       "      <td>35:56</td>\n",
       "    </tr>\n",
       "    <tr>\n",
       "      <td>15</td>\n",
       "      <td>1.439869</td>\n",
       "      <td>0.385598</td>\n",
       "      <td>0.897307</td>\n",
       "      <td>35:57</td>\n",
       "    </tr>\n",
       "  </tbody>\n",
       "</table>"
      ],
      "text/plain": [
       "<IPython.core.display.HTML object>"
      ]
     },
     "metadata": {
      "tags": []
     },
     "output_type": "display_data"
    }
   ],
   "source": [
    "learn.dls = get_dls(24, 512)\n",
    "learn.fine_tune(16, 3e-4)\n",
    "learn.save('resnet50-mixup-512')"
   ]
  },
  {
   "cell_type": "markdown",
   "metadata": {
    "colab_type": "text",
    "heading_collapsed": true,
    "id": "VtniDrZXAMgq"
   },
   "source": [
    "# Test Time Augmentation"
   ]
  },
  {
   "cell_type": "markdown",
   "metadata": {
    "colab_type": "text",
    "hidden": true,
    "id": "0p4JcvBJAPEL"
   },
   "source": [
    "## number of variations : 4, method: average"
   ]
  },
  {
   "cell_type": "code",
   "execution_count": 12,
   "metadata": {
    "colab": {
     "base_uri": "https://localhost:8080/",
     "height": 34
    },
    "colab_type": "code",
    "hidden": true,
    "id": "e4RUCepmrLV2",
    "outputId": "3caa5d03-768c-4dfd-ab38-8b78524a76c2"
   },
   "outputs": [
    {
     "data": {
      "text/html": [],
      "text/plain": [
       "<IPython.core.display.HTML object>"
      ]
     },
     "metadata": {
      "tags": []
     },
     "output_type": "display_data"
    },
    {
     "data": {
      "text/html": [],
      "text/plain": [
       "<IPython.core.display.HTML object>"
      ]
     },
     "metadata": {
      "tags": []
     },
     "output_type": "display_data"
    },
    {
     "data": {
      "text/plain": [
       "0.9032475352287292"
      ]
     },
     "execution_count": 12,
     "metadata": {
      "tags": []
     },
     "output_type": "execute_result"
    }
   ],
   "source": [
    "preds, targets = learn.tta()\n",
    "accuracy(preds, targets).item()"
   ]
  },
  {
   "cell_type": "markdown",
   "metadata": {
    "colab_type": "text",
    "hidden": true,
    "id": "NtEO-xeqAbzS"
   },
   "source": [
    "## number of variations : 8, method: average"
   ]
  },
  {
   "cell_type": "code",
   "execution_count": 13,
   "metadata": {
    "colab": {
     "base_uri": "https://localhost:8080/",
     "height": 34
    },
    "colab_type": "code",
    "hidden": true,
    "id": "zOPqjsxV5Mms",
    "outputId": "0e97d299-f86f-4042-b6de-bc4816c873c0"
   },
   "outputs": [
    {
     "data": {
      "text/html": [],
      "text/plain": [
       "<IPython.core.display.HTML object>"
      ]
     },
     "metadata": {
      "tags": []
     },
     "output_type": "display_data"
    },
    {
     "data": {
      "text/html": [],
      "text/plain": [
       "<IPython.core.display.HTML object>"
      ]
     },
     "metadata": {
      "tags": []
     },
     "output_type": "display_data"
    },
    {
     "data": {
      "text/plain": [
       "0.9036039710044861"
      ]
     },
     "execution_count": 13,
     "metadata": {
      "tags": []
     },
     "output_type": "execute_result"
    }
   ],
   "source": [
    "preds, targets = learn.tta(n=8)\n",
    "accuracy(preds, targets).item()"
   ]
  },
  {
   "cell_type": "markdown",
   "metadata": {
    "colab_type": "text",
    "hidden": true,
    "id": "osb2J2PaAd1G"
   },
   "source": [
    "## number of variations : 4, method: max"
   ]
  },
  {
   "cell_type": "code",
   "execution_count": 15,
   "metadata": {
    "colab": {
     "base_uri": "https://localhost:8080/",
     "height": 34
    },
    "colab_type": "code",
    "hidden": true,
    "id": "8fvjewa_5Ma0",
    "outputId": "18675bdf-2d30-42c8-c550-70da19064fcb"
   },
   "outputs": [
    {
     "data": {
      "text/html": [],
      "text/plain": [
       "<IPython.core.display.HTML object>"
      ]
     },
     "metadata": {
      "tags": []
     },
     "output_type": "display_data"
    },
    {
     "data": {
      "text/html": [],
      "text/plain": [
       "<IPython.core.display.HTML object>"
      ]
     },
     "metadata": {
      "tags": []
     },
     "output_type": "display_data"
    },
    {
     "data": {
      "text/plain": [
       "0.8977822065353394"
      ]
     },
     "execution_count": 15,
     "metadata": {
      "tags": []
     },
     "output_type": "execute_result"
    }
   ],
   "source": [
    "preds, targets = learn.tta(use_max=True)\n",
    "accuracy(preds, targets).item()"
   ]
  }
 ],
 "metadata": {
  "accelerator": "GPU",
  "colab": {
   "collapsed_sections": [],
   "machine_shape": "hm",
   "name": "SJ-Food-101-Modelling-Resizing-Mixup.ipynb",
   "provenance": []
  },
  "kernelspec": {
   "display_name": "Python 3",
   "language": "python",
   "name": "python3"
  },
  "language_info": {
   "codemirror_mode": {
    "name": "ipython",
    "version": 3
   },
   "file_extension": ".py",
   "mimetype": "text/x-python",
   "name": "python",
   "nbconvert_exporter": "python",
   "pygments_lexer": "ipython3",
   "version": "3.7.7"
  },
  "toc": {
   "base_numbering": 1,
   "nav_menu": {},
   "number_sections": true,
   "sideBar": true,
   "skip_h1_title": false,
   "title_cell": "Table of Contents",
   "title_sidebar": "Contents",
   "toc_cell": true,
   "toc_position": {},
   "toc_section_display": true,
   "toc_window_display": false
  }
 },
 "nbformat": 4,
 "nbformat_minor": 1
}
