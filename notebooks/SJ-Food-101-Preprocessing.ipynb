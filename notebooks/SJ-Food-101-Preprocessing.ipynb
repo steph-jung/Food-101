{
 "cells": [
  {
   "cell_type": "markdown",
   "metadata": {
    "toc": true
   },
   "source": [
    "<h1>Table of Contents<span class=\"tocSkip\"></span></h1>\n",
    "<div class=\"toc\"><ul class=\"toc-item\"><li><span><a href=\"#Untar-data\" data-toc-modified-id=\"Untar-data-1\"><span class=\"toc-item-num\">1&nbsp;&nbsp;</span>Untar data</a></span></li><li><span><a href=\"#Separate-train-and-test-images\" data-toc-modified-id=\"Separate-train-and-test-images-2\"><span class=\"toc-item-num\">2&nbsp;&nbsp;</span>Separate train and test images</a></span></li><li><span><a href=\"#Create-a-tiny-dataset-for-modeling\" data-toc-modified-id=\"Create-a-tiny-dataset-for-modeling-3\"><span class=\"toc-item-num\">3&nbsp;&nbsp;</span>Create a tiny dataset for modeling</a></span></li><li><span><a href=\"#FastAI-Resnet50\" data-toc-modified-id=\"FastAI-Resnet50-4\"><span class=\"toc-item-num\">4&nbsp;&nbsp;</span>FastAI Resnet50</a></span></li></ul></div>"
   ]
  },
  {
   "cell_type": "code",
   "execution_count": 1,
   "metadata": {
    "ExecuteTime": {
     "end_time": "2020-07-16T07:40:48.245968Z",
     "start_time": "2020-07-16T07:39:45.195463Z"
    }
   },
   "outputs": [],
   "source": [
    "import pandas as pd\n",
    "import os\n",
    "import shutil"
   ]
  },
  {
   "cell_type": "markdown",
   "metadata": {},
   "source": [
    "# Untar data"
   ]
  },
  {
   "cell_type": "code",
   "execution_count": 1,
   "metadata": {
    "ExecuteTime": {
     "end_time": "2020-07-16T06:03:59.114345Z",
     "start_time": "2020-07-16T06:03:35.446509Z"
    }
   },
   "outputs": [],
   "source": [
    "#!tar -xvf data/food-101.tar -C data"
   ]
  },
  {
   "cell_type": "code",
   "execution_count": 2,
   "metadata": {
    "ExecuteTime": {
     "end_time": "2020-07-16T04:46:18.171754Z",
     "start_time": "2020-07-16T04:46:17.678486Z"
    },
    "scrolled": true
   },
   "outputs": [],
   "source": [
    "#!tree -d data/food-101/images"
   ]
  },
  {
   "cell_type": "markdown",
   "metadata": {},
   "source": [
    "# Separate train and test images"
   ]
  },
  {
   "cell_type": "code",
   "execution_count": 32,
   "metadata": {
    "ExecuteTime": {
     "end_time": "2020-07-16T06:03:59.120129Z",
     "start_time": "2020-07-16T06:03:59.116565Z"
    }
   },
   "outputs": [],
   "source": [
    "meta_cl = open('data/food-101/meta/classes.txt').read().strip().split('\\n')"
   ]
  },
  {
   "cell_type": "code",
   "execution_count": 33,
   "metadata": {
    "ExecuteTime": {
     "end_time": "2020-07-16T06:03:59.130756Z",
     "start_time": "2020-07-16T06:03:59.122445Z"
    }
   },
   "outputs": [],
   "source": [
    "for cl in meta_cl:\n",
    "    os.makedirs(f'data/food-101/valid/{cl}')"
   ]
  },
  {
   "cell_type": "code",
   "execution_count": 30,
   "metadata": {
    "ExecuteTime": {
     "end_time": "2020-07-16T06:00:45.817028Z",
     "start_time": "2020-07-16T06:00:45.807831Z"
    }
   },
   "outputs": [],
   "source": [
    "meta_test = open('data/food-101/meta/test.txt').read().strip().split('\\n')"
   ]
  },
  {
   "cell_type": "code",
   "execution_count": 34,
   "metadata": {
    "ExecuteTime": {
     "end_time": "2020-07-16T06:04:45.695753Z",
     "start_time": "2020-07-16T06:04:42.000889Z"
    }
   },
   "outputs": [],
   "source": [
    "for path in meta_test:\n",
    "    dname = path.split('/')[0]\n",
    "    shutil.move(f'data/food-101/images/{path}.jpg', f'data/food-101/valid/{dname}/')"
   ]
  },
  {
   "cell_type": "code",
   "execution_count": 35,
   "metadata": {
    "ExecuteTime": {
     "end_time": "2020-07-16T06:04:48.452950Z",
     "start_time": "2020-07-16T06:04:48.450082Z"
    }
   },
   "outputs": [],
   "source": [
    "os.rename('data/food-101/images', 'data/food-101/train')"
   ]
  },
  {
   "cell_type": "markdown",
   "metadata": {},
   "source": [
    "# Create a tiny dataset for modeling"
   ]
  },
  {
   "cell_type": "code",
   "execution_count": 4,
   "metadata": {
    "ExecuteTime": {
     "end_time": "2020-07-16T06:19:19.234510Z",
     "start_time": "2020-07-16T06:19:19.109284Z"
    }
   },
   "outputs": [],
   "source": [
    "mkdir data/food-101-tinyset-100"
   ]
  },
  {
   "cell_type": "code",
   "execution_count": 2,
   "metadata": {
    "ExecuteTime": {
     "end_time": "2020-07-16T06:20:09.477085Z",
     "start_time": "2020-07-16T06:20:09.473573Z"
    }
   },
   "outputs": [],
   "source": [
    "tiny_cl = ['bibimbap', 'steak', 'pizza', 'ramen', 'sushi', 'hummus', 'tacos', 'ice_cream', 'donuts', 'apple_pie']"
   ]
  },
  {
   "cell_type": "code",
   "execution_count": 6,
   "metadata": {
    "ExecuteTime": {
     "end_time": "2020-07-16T06:26:02.762271Z",
     "start_time": "2020-07-16T06:25:59.470930Z"
    }
   },
   "outputs": [],
   "source": [
    "for cl in tiny_cl:\n",
    "    shutil.copytree(f'data/food-101/train/{cl}/', f'data/food-101-tinyset-100/train/{cl}')\n",
    "    shutil.copytree(f'data/food-101/valid/{cl}/', f'data/food-101-tinyset-100/valid/{cl}')"
   ]
  },
  {
   "cell_type": "code",
   "execution_count": null,
   "metadata": {},
   "outputs": [],
   "source": []
  },
  {
   "cell_type": "code",
   "execution_count": null,
   "metadata": {},
   "outputs": [],
   "source": []
  }
 ],
 "metadata": {
  "kernelspec": {
   "display_name": "Python 3",
   "language": "python",
   "name": "python3"
  },
  "language_info": {
   "codemirror_mode": {
    "name": "ipython",
    "version": 3
   },
   "file_extension": ".py",
   "mimetype": "text/x-python",
   "name": "python",
   "nbconvert_exporter": "python",
   "pygments_lexer": "ipython3",
   "version": "3.7.7"
  },
  "toc": {
   "base_numbering": 1,
   "nav_menu": {},
   "number_sections": true,
   "sideBar": true,
   "skip_h1_title": false,
   "title_cell": "Table of Contents",
   "title_sidebar": "Contents",
   "toc_cell": true,
   "toc_position": {},
   "toc_section_display": true,
   "toc_window_display": false
  }
 },
 "nbformat": 4,
 "nbformat_minor": 4
}
